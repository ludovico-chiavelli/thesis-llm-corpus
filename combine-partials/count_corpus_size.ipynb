{
 "cells": [
  {
   "cell_type": "code",
   "execution_count": null,
   "id": "7f43eb8d",
   "metadata": {},
   "outputs": [
    {
     "name": "stdout",
     "output_type": "stream",
     "text": [
      "Total number of words in llama_partial: 243298\n",
      "Total number of words in gemma_partial: 243298\n",
      "Total number of words in mistral_partial: 243298\n",
      "Total number of words in HUMAN_TEXT: 729894\n",
      "Total number of words in HUMAN_TEXT: 243298\n",
      "Total number of words in MODEL_TEXT: 673317\n",
      "Total number of words in the corpus: 916615\n",
      "Total number of rows in the corpus: 4404\n"
     ]
    }
   ],
   "source": [
    "import pandas as pd\n",
    "\n",
    "corpus = pd.read_csv(\"final_corpus_uncleaned_unfiltered.csv\")\n",
    "\n",
    "# Count total number of words in the corpus\n",
    "# method from https://stackoverflow.com/a/51871650/13940304\n",
    "\n",
    "# Rember that the human text is the same for each model. So only count it once\n",
    "\n",
    "total_human_words = len(' '.join(corpus[corpus[\"MODEL_NAME\"] == \"meta-llama/Llama-3.1-8B-Instruct\"][\"HUMAN_TEXT\"].astype(str)).split())\n",
    "\n",
    "total_model_words = len(' '.join(corpus[\"MODEL_TEXT\"].astype(str)).split())\n",
    "print(f\"Total number of words in HUMAN_TEXT: {total_human_words}\")\n",
    "print(f\"Total number of words in MODEL_TEXT: {total_model_words}\")\n",
    "print(f\"Total number of words in the corpus: {total_human_words + total_model_words}\")\n",
    "\n",
    "# Total number of rows in the corpus\n",
    "total_rows = len(corpus)\n",
    "print(f\"Total number of rows in the corpus: {total_rows}\")"
   ]
  }
 ],
 "metadata": {
  "kernelspec": {
   "display_name": "llm-detector-venv",
   "language": "python",
   "name": "python3"
  },
  "language_info": {
   "codemirror_mode": {
    "name": "ipython",
    "version": 3
   },
   "file_extension": ".py",
   "mimetype": "text/x-python",
   "name": "python",
   "nbconvert_exporter": "python",
   "pygments_lexer": "ipython3",
   "version": "3.10.12"
  }
 },
 "nbformat": 4,
 "nbformat_minor": 5
}
